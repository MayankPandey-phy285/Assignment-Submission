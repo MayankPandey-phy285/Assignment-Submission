{
 "cells": [
  {
   "cell_type": "markdown",
   "id": "58d32af2",
   "metadata": {},
   "source": [
    "# Assignment Day 1 "
   ]
  },
  {
   "cell_type": "code",
   "execution_count": 1,
   "id": "6eca3feb",
   "metadata": {},
   "outputs": [],
   "source": [
    "# Take two input and store in variable x and y ,find x to the power Y"
   ]
  },
  {
   "cell_type": "code",
   "execution_count": 4,
   "id": "daae5393",
   "metadata": {},
   "outputs": [
    {
     "name": "stdout",
     "output_type": "stream",
     "text": [
      "25\n",
      "3\n",
      "15625\n"
     ]
    }
   ],
   "source": [
    "# Taking Two inputs\n",
    "inp1 = int(input())\n",
    "inp2 = int(input())\n",
    "# store in x and Y\n",
    "x= inp1\n",
    "y =inp2\n",
    "# find x power y\n",
    "print(x**y)"
   ]
  },
  {
   "cell_type": "code",
   "execution_count": null,
   "id": "9ab8a3c5",
   "metadata": {},
   "outputs": [],
   "source": []
  }
 ],
 "metadata": {
  "kernelspec": {
   "display_name": "Python 3 (ipykernel)",
   "language": "python",
   "name": "python3"
  },
  "language_info": {
   "codemirror_mode": {
    "name": "ipython",
    "version": 3
   },
   "file_extension": ".py",
   "mimetype": "text/x-python",
   "name": "python",
   "nbconvert_exporter": "python",
   "pygments_lexer": "ipython3",
   "version": "3.9.6"
  }
 },
 "nbformat": 4,
 "nbformat_minor": 5
}
